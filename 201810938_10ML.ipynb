{
 "cells": [
  {
   "cell_type": "markdown",
   "metadata": {},
   "source": [
    "# 1. 로지스틱 회귀: 합격 여부 판단"
   ]
  },
  {
   "cell_type": "markdown",
   "metadata": {},
   "source": [
    "## 1. 로지스틱 회귀"
   ]
  },
  {
   "cell_type": "markdown",
   "metadata": {},
   "source": [
    "• 1) 합격여부 데이터 읽기           \n",
    "• 2) 그래프 그리기              \n",
    "• 3) 학습              \n",
    "• 4) decision boundary    "
   ]
  },
  {
   "cell_type": "markdown",
   "metadata": {},
   "source": [
    "## 1) 합격여부 데이터 읽기"
   ]
  },
  {
   "cell_type": "code",
   "execution_count": 2,
   "metadata": {},
   "outputs": [
    {
     "name": "stdout",
     "output_type": "stream",
     "text": [
      "          ex1        ex2  Admitted\n",
      "0   34.623660  78.024693         0\n",
      "1   30.286711  43.894998         0\n",
      "2   35.847409  72.902198         0\n",
      "3   60.182599  86.308552         1\n",
      "4   79.032736  75.344376         1\n",
      "5   45.083277  56.316372         0\n",
      "6   61.106665  96.511426         1\n",
      "7   75.024746  46.554014         1\n",
      "8   76.098787  87.420570         1\n",
      "9   84.432820  43.533393         1\n",
      "10  95.861555  38.225278         0\n",
      "11  75.013658  30.603263         0\n",
      "12  82.307053  76.481963         1\n",
      "13  69.364589  97.718692         1\n",
      "14  39.538339  76.036811         0\n",
      "15  53.971052  89.207350         1\n",
      "16  69.070144  52.740470         1\n",
      "17  67.946855  46.678574         0\n",
      "18  70.661510  92.927138         1\n",
      "19  76.978784  47.575964         1\n",
      "20  67.372028  42.838438         0\n",
      "21  89.676776  65.799366         1\n",
      "22  50.534788  48.855812         0\n",
      "23  34.212061  44.209529         0\n",
      "24  77.924091  68.972360         1\n",
      "25  62.271014  69.954458         1\n",
      "26  80.190181  44.821629         1\n",
      "27  93.114389  38.800670         0\n",
      "28  61.830206  50.256108         0\n",
      "29  38.785804  64.995681         0\n",
      "..        ...        ...       ...\n",
      "70  32.722833  43.307173         0\n",
      "71  64.039320  78.031688         1\n",
      "72  72.346494  96.227593         1\n",
      "73  60.457886  73.094998         1\n",
      "74  58.840956  75.858448         1\n",
      "75  99.827858  72.369252         1\n",
      "76  47.264269  88.475865         1\n",
      "77  50.458160  75.809860         1\n",
      "78  60.455556  42.508409         0\n",
      "79  82.226662  42.719879         0\n",
      "80  88.913896  69.803789         1\n",
      "81  94.834507  45.694307         1\n",
      "82  67.319257  66.589353         1\n",
      "83  57.238706  59.514282         1\n",
      "84  80.366756  90.960148         1\n",
      "85  68.468522  85.594307         1\n",
      "86  42.075455  78.844786         0\n",
      "87  75.477702  90.424539         1\n",
      "88  78.635424  96.647427         1\n",
      "89  52.348004  60.769505         0\n",
      "90  94.094331  77.159105         1\n",
      "91  90.448551  87.508792         1\n",
      "92  55.482161  35.570703         0\n",
      "93  74.492692  84.845137         1\n",
      "94  89.845807  45.358284         1\n",
      "95  83.489163  48.380286         1\n",
      "96  42.261701  87.103851         1\n",
      "97  99.315009  68.775409         1\n",
      "98  55.340018  64.931938         1\n",
      "99  74.775893  89.529813         1\n",
      "\n",
      "[100 rows x 3 columns]\n"
     ]
    }
   ],
   "source": [
    "import numpy as np\n",
    "\n",
    "# (시험1점수), (시험2점수), (합격여부)\n",
    "# Ng, Machine Learning, Coursera, ml-ex2 중\n",
    "import pandas as pd\n",
    "data= pd.read_csv('admit.txt', names= ['ex1', 'ex2', 'Admitted'])\n",
    "print data\n",
    "\n",
    "X= np.c_[data['ex1'], data['ex2']]  #점수\n",
    "y= data['Admitted']  # 합격 여부(1: admitted, 0: not admitted)\n",
    "m= len(data)  # 정보 개수(행 개수)"
   ]
  },
  {
   "cell_type": "code",
   "execution_count": 3,
   "metadata": {},
   "outputs": [
    {
     "name": "stdout",
     "output_type": "stream",
     "text": [
      "(100, 2) (100,)\n"
     ]
    }
   ],
   "source": [
    "# numpy array 형태로 변환, 형태 변화(m) -> (m,1)\n",
    "# X= (np.array(X)).reshape(m,2)\n",
    "# y= (np.array(y)).reshape(m,1)\n",
    "print X.shape, y.shape"
   ]
  },
  {
   "cell_type": "markdown",
   "metadata": {},
   "source": [
    "## 2) 그래프 그리기"
   ]
  },
  {
   "cell_type": "code",
   "execution_count": 4,
   "metadata": {},
   "outputs": [
    {
     "name": "stdout",
     "output_type": "stream",
     "text": [
      "[3, 4, 6, 7, 8, 9, 12, 13, 15, 16, 18, 19, 21, 24, 25, 26, 30, 31, 33, 37, 40, 42, 46, 47, 48, 49, 50, 51, 52, 56, 58, 59, 60, 66, 68, 69, 71, 72, 73, 74, 75, 76, 77, 80, 81, 82, 83, 84, 85, 87, 88, 90, 91, 93, 94, 95, 96, 97, 98, 99]\n",
      "[0, 1, 2, 5, 10, 11, 14, 17, 20, 22, 23, 27, 28, 29, 32, 34, 35, 36, 38, 39, 41, 43, 44, 45, 53, 54, 55, 57, 61, 62, 63, 64, 65, 67, 70, 78, 79, 86, 89, 92]\n"
     ]
    }
   ],
   "source": [
    "# 합격, 불합격 데이터 인덱스 찾기\n",
    "pos= []\n",
    "neg= []\n",
    "\n",
    "for (i,val) in enumerate(y):\n",
    "    if val==1:\n",
    "        pos.append(i)\n",
    "    else:\n",
    "        neg.append(i)\n",
    "print pos\n",
    "print neg"
   ]
  },
  {
   "cell_type": "code",
   "execution_count": 6,
   "metadata": {},
   "outputs": [
    {
     "data": {
      "image/png": "[encoded data removed]",
      "text/plain": [
       "<Figure size 432x288 with 1 Axes>"
      ]
     },
     "metadata": {},
     "output_type": "display_data"
    }
   ],
   "source": [
    "import matplotlib.pyplot as plt\n",
    "plt.plot(X[pos,0].reshape(-1), X[pos,1].reshape(-1), 'b+', label='Admitted') # X[:,1].reshape(-1): 한 줄로 피기. (m,) -> (m)\n",
    "plt.plot(X[neg,0].reshape(-1), X[neg,1].reshape(-1), 'ro', label='Not Admitted')\n",
    "plt.xlabel(\"Exam 1 score\")\n",
    "plt.ylabel(\"Exam 2 score\")\n",
    "plt.legend(loc= 'upper right')\n",
    "plt.show()"
   ]
  },
  {
   "cell_type": "markdown",
   "metadata": {},
   "source": [
    "## 3) 학습"
   ]
  },
  {
   "cell_type": "code",
   "execution_count": 7,
   "metadata": {},
   "outputs": [
    {
     "data": {
      "text/plain": [
       "LogisticRegression(C=10, class_weight=None, dual=False, fit_intercept=True,\n",
       "          intercept_scaling=1, max_iter=100, multi_class='warn',\n",
       "          n_jobs=None, penalty='l2', random_state=None, solver='liblinear',\n",
       "          tol=0.0001, verbose=0, warm_start=False)"
      ]
     },
     "execution_count": 7,
     "metadata": {},
     "output_type": "execute_result"
    }
   ],
   "source": [
    "from sklearn.linear_model import LogisticRegression\n",
    "\n",
    "log_reg= LogisticRegression(solver='liblinear', C=10)  # C: 클수록 규제 줄어듦\n",
    "log_reg.fit(X,y)"
   ]
  },
  {
   "cell_type": "code",
   "execution_count": 8,
   "metadata": {},
   "outputs": [
    {
     "data": {
      "text/plain": [
       "array([0, 1])"
      ]
     },
     "execution_count": 8,
     "metadata": {},
     "output_type": "execute_result"
    }
   ],
   "source": [
    "# exam1 30점, exam2 70점 맞은 학생은 합격/불합격?\n",
    "# exam1 50점, exam2 90점\n",
    "log_reg.predict([[30,70],\n",
    "                [50,90]])"
   ]
  },
  {
   "cell_type": "markdown",
   "metadata": {},
   "source": [
    "## 4)decision boundary"
   ]
  },
  {
   "cell_type": "code",
   "execution_count": 9,
   "metadata": {},
   "outputs": [
    {
     "data": {
      "image/png": "[encoded data removed]",
      "text/plain": [
       "<Figure size 432x288 with 1 Axes>"
      ]
     },
     "metadata": {},
     "output_type": "display_data"
    }
   ],
   "source": [
    "# Plot the decision boundary. For that, we will assign a color to each\n",
    "# point in the mesh [x_min, x_max]x[y_min, y_max].\n",
    "x_min, x_max= X[:, 0].min(), X[:, 0].max()\n",
    "y_min, y_max= X[:, 1].min(), X[:, 1].max()\n",
    "h= .2 # step size in the mesh\n",
    "xx, yy = np.meshgrid(np.arange(x_min, x_max, h), np.arange(y_min, y_max, h))\n",
    "Z= log_reg.predict(np.c_[xx.ravel(), yy.ravel()])\n",
    "\n",
    "# Put the result into a color plot\n",
    "Z= Z.reshape(xx.shape)\n",
    "plt.figure(1)\n",
    "plt.pcolormesh(xx, yy, Z, cmap= plt.cm.Paired)\n",
    "\n",
    "# Plot also the training points\n",
    "plt.plot(X[pos,0].reshape(-1), X[pos,1].reshape(-1), 'b+', label= 'Passed')\n",
    "plt.plot(X[neg,0].reshape(-1), X[neg,1].reshape(-1), 'ro', label= 'Not passed')\n",
    "plt.xlabel(\"Microchip Test 1\") \n",
    "plt.ylabel(\"Microchip Test 2\")\n",
    "plt.legend(loc='upper right')\n",
    "\n",
    "plt.xlim(xx.min(), xx.max())\n",
    "plt.ylim(yy.min(), yy.max())\n",
    "plt.xticks(())\n",
    "plt.yticks(())\n",
    "\n",
    "plt.show()"
   ]
  },
  {
   "cell_type": "markdown",
   "metadata": {},
   "source": [
    "# 2. 로지스틱 회귀+ 정규화\n",
    "# : 반도체 불량품 여부 판단"
   ]
  },
  {
   "cell_type": "markdown",
   "metadata": {},
   "source": [
    "## 2. 로지스틱 회귀 + 정규화"
   ]
  },
  {
   "cell_type": "markdown",
   "metadata": {},
   "source": [
    "• 1) 합격여부 데이터 읽기           \n",
    "• 2) 그래프 그리기              \n",
    "• 3) 학습              \n",
    "• 4) decision boundary    "
   ]
  },
  {
   "cell_type": "markdown",
   "metadata": {},
   "source": [
    "## 1) 불량 여부 데이터 읽기"
   ]
  },
  {
   "cell_type": "code",
   "execution_count": 10,
   "metadata": {},
   "outputs": [
    {
     "name": "stdout",
     "output_type": "stream",
     "text": [
      "           t1        t2  Passed\n",
      "0    0.051267  0.699560       1\n",
      "1   -0.092742  0.684940       1\n",
      "2   -0.213710  0.692250       1\n",
      "3   -0.375000  0.502190       1\n",
      "4   -0.513250  0.465640       1\n",
      "5   -0.524770  0.209800       1\n",
      "6   -0.398040  0.034357       1\n",
      "7   -0.305880 -0.192250       1\n",
      "8    0.016705 -0.404240       1\n",
      "9    0.131910 -0.513890       1\n",
      "10   0.385370 -0.565060       1\n",
      "11   0.529380 -0.521200       1\n",
      "12   0.638820 -0.243420       1\n",
      "13   0.736750 -0.184940       1\n",
      "14   0.546660  0.487570       1\n",
      "15   0.322000  0.582600       1\n",
      "16   0.166470  0.538740       1\n",
      "17  -0.046659  0.816520       1\n",
      "18  -0.173390  0.699560       1\n",
      "19  -0.478690  0.633770       1\n",
      "20  -0.605410  0.597220       1\n",
      "21  -0.628460  0.334060       1\n",
      "22  -0.593890  0.005117       1\n",
      "23  -0.421080 -0.272660       1\n",
      "24  -0.115780 -0.396930       1\n",
      "25   0.201040 -0.601610       1\n",
      "26   0.466010 -0.535820       1\n",
      "27   0.673390 -0.535820       1\n",
      "28  -0.138820  0.546050       1\n",
      "29  -0.294350  0.779970       1\n",
      "..        ...       ...     ...\n",
      "88  -0.403800  0.706870       0\n",
      "89  -0.380760  0.918860       0\n",
      "90  -0.507490  0.904240       0\n",
      "91  -0.547810  0.706870       0\n",
      "92   0.103110  0.779970       0\n",
      "93   0.057028  0.918860       0\n",
      "94  -0.104260  0.991960       0\n",
      "95  -0.081221  1.108900       0\n",
      "96   0.287440  1.087000       0\n",
      "97   0.396890  0.823830       0\n",
      "98   0.638820  0.889620       0\n",
      "99   0.823160  0.663010       0\n",
      "100  0.673390  0.641080       0\n",
      "101  1.070900  0.100150       0\n",
      "102 -0.046659 -0.579680       0\n",
      "103 -0.236750 -0.638160       0\n",
      "104 -0.150350 -0.367690       0\n",
      "105 -0.490210 -0.301900       0\n",
      "106 -0.467170 -0.133770       0\n",
      "107 -0.288590 -0.060673       0\n",
      "108 -0.611180 -0.067982       0\n",
      "109 -0.663020 -0.214180       0\n",
      "110 -0.599650 -0.418860       0\n",
      "111 -0.726380 -0.082602       0\n",
      "112 -0.830070  0.312130       0\n",
      "113 -0.720620  0.538740       0\n",
      "114 -0.593890  0.494880       0\n",
      "115 -0.484450  0.999270       0\n",
      "116 -0.006336  0.999270       0\n",
      "117  0.632650 -0.030612       0\n",
      "\n",
      "[118 rows x 3 columns]\n"
     ]
    }
   ],
   "source": [
    "import numpy as np\n",
    "\n",
    "# (test1),(test2), (Quality Assurance 통과 여부)\n",
    "# Ng, Machine LEARNING, Coursera, mi-ex2 중\n",
    "import pandas as pd\n",
    "data= pd.read_csv('qa.txt', names=['t1', 't2', 'Passed'])\n",
    "print data\n",
    "\n",
    "X= np.c_[data['t1'], data['t2']]  #점수\n",
    "y= data['Passed']  # 합격 여부(1: passed, 0: failed)\n",
    "m= len(data)   # 정보 개수(행 개수)"
   ]
  },
  {
   "cell_type": "code",
   "execution_count": 11,
   "metadata": {},
   "outputs": [
    {
     "name": "stdout",
     "output_type": "stream",
     "text": [
      "(118, 2) (118,)\n"
     ]
    }
   ],
   "source": [
    "# numpy array 형태로 변환, 형태 변환(m) -> (m,1)\n",
    "# X= (np.array(X)).reshape(m,2)\n",
    "# y= (np.array(y)).reshape(m,1)\n",
    "print X.shape, y.shape"
   ]
  },
  {
   "cell_type": "markdown",
   "metadata": {},
   "source": [
    "## 2) 그래프 그리기"
   ]
  },
  {
   "cell_type": "code",
   "execution_count": 12,
   "metadata": {},
   "outputs": [
    {
     "name": "stdout",
     "output_type": "stream",
     "text": [
      "[0, 1, 2, 3, 4, 5, 6, 7, 8, 9, 10, 11, 12, 13, 14, 15, 16, 17, 18, 19, 20, 21, 22, 23, 24, 25, 26, 27, 28, 29, 30, 31, 32, 33, 34, 35, 36, 37, 38, 39, 40, 41, 42, 43, 44, 45, 46, 47, 48, 49, 50, 51, 52, 53, 54, 55, 56, 57]\n",
      "[58, 59, 60, 61, 62, 63, 64, 65, 66, 67, 68, 69, 70, 71, 72, 73, 74, 75, 76, 77, 78, 79, 80, 81, 82, 83, 84, 85, 86, 87, 88, 89, 90, 91, 92, 93, 94, 95, 96, 97, 98, 99, 100, 101, 102, 103, 104, 105, 106, 107, 108, 109, 110, 111, 112, 113, 114, 115, 116, 117]\n"
     ]
    }
   ],
   "source": [
    "# passed, failed 데이터 인덱스 찾기\n",
    "pos= []\n",
    "neg= []\n",
    "\n",
    "for (i,val) in enumerate(y):\n",
    "    if val==1:\n",
    "        pos.append(i)\n",
    "    else:\n",
    "        neg.append(i)\n",
    "print pos\n",
    "print neg"
   ]
  },
  {
   "cell_type": "code",
   "execution_count": 13,
   "metadata": {},
   "outputs": [
    {
     "data": {
      "image/png": "[encoded data removed]",
      "text/plain": [
       "<Figure size 432x288 with 1 Axes>"
      ]
     },
     "metadata": {},
     "output_type": "display_data"
    }
   ],
   "source": [
    "import matplotlib.pyplot as plt\n",
    "plt.plot(X[pos,0].reshape(-1), X[pos,1].reshape(-1), 'b+', label='Passed')\n",
    "plt.plot(X[neg,0].reshape(-1), X[neg,1].reshape(-1), 'ro', label='Failed')\n",
    "plt.xlabel(\"Microchip Test 1\")\n",
    "plt.ylabel(\"Microchip Test 2\")\n",
    "plt.legend(loc= 'upper right')\n",
    "plt.show()"
   ]
  },
  {
   "cell_type": "markdown",
   "metadata": {},
   "source": [
    "## 3) 학습"
   ]
  },
  {
   "cell_type": "code",
   "execution_count": 14,
   "metadata": {},
   "outputs": [
    {
     "name": "stdout",
     "output_type": "stream",
     "text": [
      "[0.051267 0.69956 ]\n",
      "(27,)\n"
     ]
    }
   ],
   "source": [
    "# X_poly= mapFeature(X[:,0], X[:,1])\n",
    "from sklearn.preprocessing import PolynomialFeatures\n",
    "degree= 6\n",
    "poly_features= PolynomialFeatures(degree= degree, include_bias= False)\n",
    "X_poly= poly_features.fit_transform(X)\n",
    "\n",
    "print X[0]\n",
    "print X_poly[0].shape"
   ]
  },
  {
   "cell_type": "code",
   "execution_count": 15,
   "metadata": {},
   "outputs": [
    {
     "data": {
      "text/plain": [
       "LogisticRegression(C=0.1, class_weight=None, dual=False, fit_intercept=True,\n",
       "          intercept_scaling=1, max_iter=100, multi_class='warn',\n",
       "          n_jobs=None, penalty='l2', random_state=None, solver='liblinear',\n",
       "          tol=0.0001, verbose=0, warm_start=False)"
      ]
     },
     "execution_count": 15,
     "metadata": {},
     "output_type": "execute_result"
    }
   ],
   "source": [
    "from sklearn.linear_model import LogisticRegression\n",
    "\n",
    "log_reg= LogisticRegression(penalty='l2', solver= 'liblinear', C=1e-1)  # 1, 1e4(규제 조금), 1e-1(규제 많이)\n",
    "log_reg.fit(X_poly,y)"
   ]
  },
  {
   "cell_type": "markdown",
   "metadata": {},
   "source": [
    "## 4) decision boundary"
   ]
  },
  {
   "cell_type": "code",
   "execution_count": 22,
   "metadata": {},
   "outputs": [
    {
     "data": {
      "image/png": "[encoded data removed]",
      "text/plain": [
       "<Figure size 432x288 with 1 Axes>"
      ]
     },
     "metadata": {},
     "output_type": "display_data"
    }
   ],
   "source": [
    "u= np.linspace(-1, 1.5, 300)\n",
    "v= np.linspace(-1, 1.5, 300)\n",
    "z= np.zeros((len(u), len(v)))\n",
    "\n",
    "for i in range(len(u)):\n",
    "    a= []\n",
    "    for j in range(len(v)):\n",
    "        a.append(np.array([u[i], v[j]]))\n",
    "        \n",
    "    my_data= poly_features.fit_transform( a )\n",
    "    z[i]= log_reg.predict( my_data )\n",
    "\n",
    "plt.contour(u,v,z,0)\n",
    "\n",
    "plt.plot(X[pos,0].reshape(-1), X[pos,1].reshape(-1), 'b+', label= 'Passed')\n",
    "plt.plot(X[neg,0].reshape(-1), X[neg,1].reshape(-1), 'ro', label= 'Failed')\n",
    "plt.xlabel(\"Microchip Test 1\") \n",
    "plt.ylabel(\"Microchip Test 2\")\n",
    "plt.legend(loc='upper right')\n",
    "plt.show()"
   ]
  },
  {
   "cell_type": "markdown",
   "metadata": {},
   "source": [
    "## 5) 로지스틱 회귀의 성능 측정법"
   ]
  },
  {
   "cell_type": "code",
   "execution_count": 23,
   "metadata": {},
   "outputs": [
    {
     "name": "stdout",
     "output_type": "stream",
     "text": [
      "[1 1 1 1 1 1 1 1 1 1 0 0 0 0 0 1 1 0 1 1 1 1 1 1 1 1 0 0 1 0 0 0 1 1 1 1 1\n",
      " 1 1 1 1 1 0 1 0 1 0 1 0 0 1 1 1 1 1 1 1 1 0 0 1 0 0 0 0 0 0 0 0 0 0 0 0 0\n",
      " 0 0 1 0 0 0 1 1 1 1 0 0 0 0 1 0 0 0 0 0 0 0 0 0 0 0 0 0 1 0 1 1 1 1 1 0 0\n",
      " 0 0 0 1 0 0 0]\n",
      "[[46 14]\n",
      " [16 42]]\n"
     ]
    },
    {
     "data": {
      "image/png": "[encoded data removed]",
      "text/plain": [
       "<Figure size 288x288 with 1 Axes>"
      ]
     },
     "metadata": {},
     "output_type": "display_data"
    },
    {
     "name": "stdout",
     "output_type": "stream",
     "text": [
      "precision_score:  0.75\n",
      "recall_score:  0.7241379310344828\n",
      "F1_score:  0.736842105263158\n"
     ]
    }
   ],
   "source": [
    "# 1. y 값 prediction\n",
    "\"\"\" 편의상 train 데이터에 대해 prediction함.\n",
    "원래는 validation, test 데이터에 대해 해야 함\"\"\"\n",
    "y_pred= log_reg.predict(X_poly)\n",
    "print y_pred\n",
    "\n",
    "# 2. confusion matrix\n",
    "from sklearn.metrics import confusion_matrix\n",
    "conf_mat = confusion_matrix(y, y_pred)\n",
    "print conf_mat\n",
    "plt.matshow(conf_mat, cmap= plt.cm.gray)\n",
    "plt.show()\n",
    "\n",
    "# 3. precision & recall\n",
    "from sklearn.metrics import precision_score, recall_score\n",
    "print \"precision_score: \", precision_score(y, y_pred) # 46 / (46+14)\n",
    "print \"recall_score: \", recall_score(y, y_pred) # 46 / (46+16)\n",
    "\n",
    "# 4. F1 score\n",
    "from sklearn.metrics import f1_score\n",
    "print \"F1_score: \", f1_score(y, y_pred)"
   ]
  },
  {
   "cell_type": "code",
   "execution_count": 18,
   "metadata": {},
   "outputs": [
    {
     "name": "stdout",
     "output_type": "stream",
     "text": [
      "[ 0.05721229  0.09031196  0.08026682  0.17053879  0.12428068  0.12804255\n",
      "  0.15762518  0.13103297  0.10611841  0.05698076 -0.02303367 -0.08009722\n",
      " -0.08781319 -0.21166892 -0.03087887  0.07336408  0.15980733 -0.10426686\n",
      "  0.07493999  0.06340612  0.01223171  0.06483144  0.05088184  0.06692669\n",
      "  0.09972027  0.0039081  -0.04642661 -0.2288355   0.19104147 -0.04422837\n",
      " -0.48582731 -0.06976624  0.12417891  0.20140773  0.20043654  0.18558606\n",
      "  0.14110412  0.17216763  0.17914447  0.08748364  0.12938355  0.05788662\n",
      " -0.07524136  0.10212642 -0.03704723  0.00922225 -0.25399059  0.14984191\n",
      " -0.08845407 -0.03267549  0.14628497  0.23248708  0.18795328  0.2312281\n",
      "  0.22583701  0.16968366  0.19363608  0.13978443 -0.47339273 -0.11374384\n",
      "  0.05569444 -0.27770043 -0.3643466  -0.1778768  -0.37102315 -0.73725405\n",
      " -0.39571626 -0.78450463 -0.69486198 -0.46788667 -0.5786725  -0.48962111\n",
      " -0.49382144 -0.4376614  -0.27751262 -0.10992105  0.0029229  -0.01829043\n",
      " -0.13858015 -0.09891484  0.02217236  0.07687025  0.01955373  0.08309043\n",
      " -0.16216551 -0.02832433 -0.06081424 -0.14156364  0.02597511 -0.3686108\n",
      " -0.37972945 -0.04142063 -0.06922482 -0.37741015 -0.59668064 -1.18241061\n",
      " -1.23462178 -0.30852966 -0.7849646  -0.68557665 -0.32835161 -1.29145658\n",
      "  0.02247742 -0.04331678  0.1060566   0.0247194   0.08914681  0.16969841\n",
      "  0.02081615 -0.06428006 -0.09046135 -0.08798572 -0.16530824 -0.0636558\n",
      "  0.0667766  -0.68509242 -0.64525137 -0.0478308 ]\n"
     ]
    }
   ],
   "source": [
    "# y probability\n",
    "y_scores = log_reg.decision_function(X_poly)\n",
    "print y_scores"
   ]
  },
  {
   "cell_type": "code",
   "execution_count": 20,
   "metadata": {},
   "outputs": [
    {
     "data": {
      "image/png": "[encoded data removed]",
      "text/plain": [
       "<Figure size 432x288 with 1 Axes>"
      ]
     },
     "metadata": {},
     "output_type": "display_data"
    },
    {
     "name": "stdout",
     "output_type": "stream",
     "text": [
      " roc_auc_score:  0.8554597701149426\n"
     ]
    }
   ],
   "source": [
    "# 5. ROC curve\n",
    "from sklearn.metrics import roc_curve\n",
    "fpr, tpr, thresholds= roc_curve(y, y_scores)\n",
    "\n",
    "def plot_roc_curve(fpr, tpr, label= None):\n",
    "    plt.plot(fpr, tpr, linewidth=2, label= label)\n",
    "    plt.plot([0,1], [0,1], 'k--')\n",
    "    plt.axis([0,1,0,1])\n",
    "    plt.xlabel('FPR')\n",
    "    plt.ylabel('TPR')\n",
    "plot_roc_curve(fpr, tpr)\n",
    "plt.show()\n",
    "\n",
    "# 6. AUC\n",
    "from sklearn.metrics import roc_auc_score\n",
    "print \"roc_auc_score: \", roc_auc_score(y, y_scores)"
   ]
  }
 ],
 "metadata": {
  "kernelspec": {
   "display_name": "conda_pytorch_p27",
   "language": "python",
   "name": "conda_pytorch_p27"
  },
  "language_info": {
   "codemirror_mode": {
    "name": "ipython",
    "version": 2
   },
   "file_extension": ".py",
   "mimetype": "text/x-python",
   "name": "python",
   "nbconvert_exporter": "python",
   "pygments_lexer": "ipython2",
   "version": "2.7.15"
  }
 },
 "nbformat": 4,
 "nbformat_minor": 4
}
